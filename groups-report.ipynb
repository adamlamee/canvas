{
 "cells": [
  {
   "cell_type": "markdown",
   "metadata": {},
   "source": [
    "# Groups Report  \n",
    "Creates csv files for each course containing each student's group memberships  \n",
    "Documentation: https://canvasapi.readthedocs.io"
   ]
  },
  {
   "cell_type": "code",
   "execution_count": 3,
   "metadata": {},
   "outputs": [],
   "source": [
    "from canvasapi import Canvas\n",
    "import pandas as pd\n",
    "\n",
    "org_url = \"https://website.edu\"\n",
    "token = \"your-token\"\n",
    "canvas = Canvas(org_url, token)\n",
    "course_id = ['list','of','course','ids']"
   ]
  },
  {
   "cell_type": "code",
   "execution_count": 4,
   "metadata": {},
   "outputs": [],
   "source": [
    "for i in course_id:                 # iterate over each course\n",
    "    course_name = []\n",
    "    student_name = []\n",
    "    student_id = []\n",
    "    course = canvas.get_course(i)\n",
    "    \n",
    "    # make df of students in course\n",
    "    for student in course.get_users(enrollment_type=['student']):\n",
    "        course_name.append(course.name)\n",
    "        student_name.append(student.name)\n",
    "        student_id.append(student.id)\n",
    "        \n",
    "    students_df = pd.DataFrame({'course_name': course_name, 'student_name': student_name, 'student_id': student_id})\n",
    "    \n",
    "    # make df for each groupset\n",
    "    big_df = students_df.copy()\n",
    "\n",
    "    for groupset in course.get_group_categories():    # iterate over each groupset\n",
    "            \n",
    "        student_name = []\n",
    "        student_id = []\n",
    "        group_name = []\n",
    "        \n",
    "        for group in groupset.get_groups():           # iterate over each group  \n",
    "            for student in canvas.get_group(group).get_memberships():      # iterate over each student in current_group\n",
    "                student_id.append(student.user_id)\n",
    "                group_name.append(group.name)\n",
    "\n",
    "        groups_df = pd.DataFrame({'student_id': student_id, groupset.name: group_name})\n",
    "        big_df = big_df.merge(groups_df, how='left', on='student_id')\n",
    "        \n",
    "    big_df.fillna(\"-\").to_csv(course.original_name[:7] + '_groups.csv', index=False)"
   ]
  }
 ],
 "metadata": {
  "kernelspec": {
   "display_name": "Python 3",
   "language": "python",
   "name": "python3"
  },
  "language_info": {
   "codemirror_mode": {
    "name": "ipython",
    "version": 3
   },
   "file_extension": ".py",
   "mimetype": "text/x-python",
   "name": "python",
   "nbconvert_exporter": "python",
   "pygments_lexer": "ipython3",
   "version": "3.7.7"
  }
 },
 "nbformat": 4,
 "nbformat_minor": 4
}
