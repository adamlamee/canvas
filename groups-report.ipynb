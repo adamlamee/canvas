{
 "cells": [
  {
   "cell_type": "markdown",
   "metadata": {},
   "source": [
    "# Creates a csv of all students in a course, with group indicated\n",
    "Documentation: https://canvasapi.readthedocs.io\n",
    "\n",
    "## Still to do\n",
    "- scan groups in a single group set (a.k.a. \"group category\" in Canvas's API docs)\n",
    "- fix why the big loop hangs if run independently twice"
   ]
  },
  {
   "cell_type": "code",
   "execution_count": null,
   "metadata": {},
   "outputs": [],
   "source": [
    "from canvasapi import Canvas\n",
    "import pandas as pd"
   ]
  },
  {
   "cell_type": "code",
   "execution_count": null,
   "metadata": {},
   "outputs": [],
   "source": [
    "org_url = \"https://webcourses.ucf.edu\"\n",
    "token = \"1158~AlPYu6txIpOJEDP210gsOhL8XLV4eLFXWQ0BwqwKvO8rvnq6KYrdZOk1sknR8sUQ\"\n",
    "canvas = Canvas(org_url, token)"
   ]
  },
  {
   "cell_type": "code",
   "execution_count": null,
   "metadata": {},
   "outputs": [],
   "source": [
    "course_id = ['1365854','1365855','1366475','1366476']  #2048, 49, 53, 54\n",
    "course = canvas.get_course(course_id[2])\n",
    "#dir(course)\n",
    "#course.original_name\n",
    "course.name"
   ]
  },
  {
   "cell_type": "code",
   "execution_count": null,
   "metadata": {},
   "outputs": [],
   "source": [
    "for i in course.get_group_categories():\n",
    "    print(i)"
   ]
  },
  {
   "cell_type": "code",
   "execution_count": null,
   "metadata": {},
   "outputs": [],
   "source": [
    "#users = course.get_users(enrollment_type=['student'])\n",
    "#dir(users[0])\n",
    "#users[0].get_profile()\n",
    "#course.get_groups()[0]\n",
    "group_ids = []\n",
    "for i in course.get_groups():\n",
    "    #print(i.id)\n",
    "    group_ids.append(i.id)\n",
    "#group_ids"
   ]
  },
  {
   "cell_type": "code",
   "execution_count": null,
   "metadata": {},
   "outputs": [],
   "source": [
    "a=0\n",
    "big_df = pd.DataFrame({'student_name': [], 'student_id': [], 'group_name': []})\n",
    "for i in group_ids:\n",
    "    course.get_groups()[a].get_memberships()\n",
    "    a = a+1\n",
    "#    if a == 3:\n",
    "#        break\n",
    "#    print(i)\n",
    "    grp = canvas.get_group(i)\n",
    "    group_names = []\n",
    "    group_ids = []\n",
    "    group_group = []\n",
    "\n",
    "    for j in grp.get_memberships():\n",
    "        group_names.append(course.get_user(j.user_id).name)\n",
    "        group_ids.append(j.user_id)\n",
    "        group_group.append(grp.name)\n",
    "\n",
    "    df_temp = pd.DataFrame({'student_name': group_names, 'student_id': group_ids, 'group_name': group_group})\n",
    "    big_df = big_df.append(df_temp, ignore_index=True)\n",
    "big_df.shape"
   ]
  },
  {
   "cell_type": "code",
   "execution_count": null,
   "metadata": {},
   "outputs": [],
   "source": [
    "big_df.to_csv(course.original_name[:7] + '.csv')"
   ]
  }
 ],
 "metadata": {
  "kernelspec": {
   "display_name": "Python 3",
   "language": "python",
   "name": "python3"
  },
  "language_info": {
   "codemirror_mode": {
    "name": "ipython",
    "version": 3
   },
   "file_extension": ".py",
   "mimetype": "text/x-python",
   "name": "python",
   "nbconvert_exporter": "python",
   "pygments_lexer": "ipython3",
   "version": "3.7.7"
  }
 },
 "nbformat": 4,
 "nbformat_minor": 4
}
